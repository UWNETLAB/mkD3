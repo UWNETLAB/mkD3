{
 "cells": [
  {
   "cell_type": "markdown",
   "metadata": {},
   "source": [
    "<center> <img src=\"http://networkslab.org/metaknowledge/images/site-logo.png\" alt=\"Drawing\" style=\"width: 100px; margin: auto\"/> <center>\n",
    "<center> **metaknowledge** </center>\n",
    "<center>*NetLab, University of Waterloo*</center>\n",
    "<center>Reid McIlroy-Young, John McLevey, and Jillian Anderson</center>"
   ]
  },
  {
   "cell_type": "markdown",
   "metadata": {},
   "source": [
    "### My Outline\n",
    "- Introduction\n",
    "    - What the purpose of this notebook is. What can it be used for. \n",
    "    - Where does all the stuff need to be placed? \n",
    "    - Install packages??\n",
    "    - Import packages\n",
    "- Networks\n",
    "    - Set variables\n",
    "    - Do the backend processing\n",
    "        - Make network\n",
    "        - Add centrality measures\n",
    "        - Give them the ability to filter? (Advanced feature)\n",
    "    - Make the file\n",
    "    - Display the file\n",
    "- RPYS\n",
    "    - Set variables\n",
    "    - Standard\n",
    "    - Multi\n",
    "    "
   ]
  },
  {
   "cell_type": "markdown",
   "metadata": {},
   "source": [
    "# Getting Set Up\n",
    "The very first time you use this jupyter notebook you will need to run the cell directly below. Do not run the cell the next time you use this jupyter notebook. If you do, nothing bad will happen, it just isn't neccessary. \n"
   ]
  },
  {
   "cell_type": "code",
   "execution_count": null,
   "metadata": {
    "collapsed": false
   },
   "outputs": [],
   "source": [
    "# Only run this the VERY first time\n",
    "!pip install metaknowledge\n",
    "!pip install networkx\n",
    "!pip install pandas\n",
    "!pip install python-louvain"
   ]
  },
  {
   "cell_type": "code",
   "execution_count": 1,
   "metadata": {
    "collapsed": false
   },
   "outputs": [],
   "source": [
    "# Run this before you do anything else\n",
    "import metaknowledge as mk\n",
    "import networkx as nx\n",
    "import pandas\n",
    "import community\n",
    "import webbrowser"
   ]
  },
  {
   "cell_type": "markdown",
   "metadata": {},
   "source": [
    "# Networks"
   ]
  },
  {
   "cell_type": "markdown",
   "metadata": {},
   "source": [
    "### Define Variables"
   ]
  },
  {
   "cell_type": "markdown",
   "metadata": {},
   "source": [
    "Next, we need to define some variables:\n",
    "- `filepath` should be set as the filepath to your isi file.   \n",
    "- `networkType` should be `\"CoCitation\"`, `\"CoAuthor`\", or `\"Citation\"`.    \n",
    "- `nodeType` must be set to one of `\"full\"`, `\"original\"`, `\"author\"`, `\"journal\"`, or `\"year\"`."
   ]
  },
  {
   "cell_type": "code",
   "execution_count": 2,
   "metadata": {
    "collapsed": true
   },
   "outputs": [],
   "source": [
    "inputFile = \"/Users/jilliananderson/Desktop/mkD3Test/pos.txt\"\n",
    "networkType = \"CoCitation\"\n",
    "nodeType = \"author\""
   ]
  },
  {
   "cell_type": "markdown",
   "metadata": {},
   "source": [
    "### Make Network"
   ]
  },
  {
   "cell_type": "code",
   "execution_count": 3,
   "metadata": {
    "collapsed": false
   },
   "outputs": [],
   "source": [
    "# This cell creates the network based on \n",
    "# the variables you provided above.\n",
    "RC = mk.RecordCollection(inputFile)\n",
    "\n",
    "if networkType == \"CoCitation\":\n",
    "    net = RC.networkCoCitation(nodeType = nodeType, coreOnly=True)\n",
    "elif networkType == \"CoAuthor\":\n",
    "    net = RC.networkCoAuthor(coreOnly=True)\n",
    "elif networkType == \"Citation\":\n",
    "    net = RC.networkCitation(nodeType=nodeType, coreOnly=True)\n",
    "elif networkType == \"BibCoupling\":\n",
    "    net = RC.networkBibCoupling()\n",
    "else:\n",
    "    print(\"Please ensure networkType has been set to one of the accepted values\")\n",
    "\n",
    "    \n",
    "# This code detects communities and centrality\n",
    "# measures for your network.\n",
    "partition = community.best_partition(net)\n",
    "# closeness = nx.closeness_centrality(net)\n",
    "betweenness = nx.betweenness_centrality(net)\n",
    "# eigenVect = nx.eigenvector_centrality(net)\n",
    "for n in net.nodes():\n",
    "    comm = partition[n]\n",
    "#     clos = round(closeness[n], 3)\n",
    "    betw = round(betweenness[n], 3)\n",
    "#     eVct = round(eigenVect[n], 3)\n",
    "    net.add_node(n, community=comm, betweenness=betw)\n",
    "    \n",
    "# This code writes two .csv files to your computer.\n",
    "# One is the edgeList and the other is the node Attribute file\n",
    "mk.writeGraph(net, \"myNet\")"
   ]
  },
  {
   "cell_type": "markdown",
   "metadata": {},
   "source": [
    "### Writing the HTML file\n",
    "To display our network, we need to make the file which displays it."
   ]
  },
  {
   "cell_type": "code",
   "execution_count": 4,
   "metadata": {
    "collapsed": false
   },
   "outputs": [
    {
     "name": "stdout",
     "output_type": "stream",
     "text": [
      "Overwriting network.html\n"
     ]
    }
   ],
   "source": [
    "%%writefile network.html\n",
    "<!DOCTYPE html>\n",
    "<head>\n",
    "    <meta charset=\"utf-8\">\n",
    "    <title>Title Here</title>\n",
    "    <link rel=\"stylesheet\" href=\"http://networkslab.org/mkD3/styles.css\">\n",
    "    <script src=\"https://d3js.org/d3.v4.js\"></script>\n",
    "    <script src=\"http://networkslab.org/mkD3/mkd3.js\"></script>\n",
    "</head>\n",
    "<body>\n",
    "    <script type = \"text/javascript\">\n",
    "        mkd3.networkGraph(\"myNet_edgeList.csv\", \"myNet_nodeAttributes.csv\")\n",
    "    </script>\n",
    "</body>"
   ]
  },
  {
   "cell_type": "markdown",
   "metadata": {},
   "source": [
    "### Display the Network\n",
    "Running the next cell "
   ]
  },
  {
   "cell_type": "code",
   "execution_count": 5,
   "metadata": {
    "collapsed": false
   },
   "outputs": [
    {
     "data": {
      "text/plain": [
       "True"
      ]
     },
     "execution_count": 5,
     "metadata": {},
     "output_type": "execute_result"
    }
   ],
   "source": [
    "url = 'http://localhost:8888/files/network.html'\n",
    "webbrowser.open(url)"
   ]
  },
  {
   "cell_type": "markdown",
   "metadata": {},
   "source": [
    "# RPYS Visualization"
   ]
  },
  {
   "cell_type": "code",
   "execution_count": 6,
   "metadata": {
    "collapsed": true
   },
   "outputs": [],
   "source": [
    "inputFile = \"/Users/jilliananderson/Desktop/mkD3Test/pos.txt\"\n",
    "minYear = 1900\n",
    "maxYear = 2016\n",
    "rpysType = \"StandardBar\""
   ]
  },
  {
   "cell_type": "markdown",
   "metadata": {
    "collapsed": true
   },
   "source": [
    "## Standard RPYS"
   ]
  },
  {
   "cell_type": "code",
   "execution_count": 7,
   "metadata": {
    "collapsed": false
   },
   "outputs": [],
   "source": [
    "RC = mk.RecordCollection(inputFile)\n",
    "\n",
    "rpys = RC.rpys(minYear=1900, maxYear=2016)\n",
    "df = pandas.DataFrame.from_dict(rpys)\n",
    "df.to_csv(\"standard_rpys.csv\")\n",
    "\n",
    "# Creating CitationFile\n",
    "citations = RC.getCitations()\n",
    "df = pandas.DataFrame.from_dict(citations)\n",
    "df.to_csv(\"standard_citation.csv\")"
   ]
  },
  {
   "cell_type": "code",
   "execution_count": 10,
   "metadata": {
    "collapsed": false
   },
   "outputs": [
    {
     "name": "stdout",
     "output_type": "stream",
     "text": [
      "Overwriting standardBar.html\n"
     ]
    }
   ],
   "source": [
    "%%writefile standardBar.html\n",
    "<!DOCTYPE html>\n",
    "<head>\n",
    "    <meta charset=\"utf-8\">\n",
    "    <title>Title Here</title>\n",
    "    <link rel=\"stylesheet\" href=\"http://networkslab.org/mkD3/styles.css\">\n",
    "    <script src=\"https://d3js.org/d3.v4.js\"></script>\n",
    "    <script src=\"http://networkslab.org/mkD3/mkd3.js\"></script>\n",
    "</head>\n",
    "<body>\n",
    "    <script type = \"text/javascript\">\n",
    "        mkd3.standardBar(\"standard_rpys.csv\", \"standard_citation.csv\")\n",
    "    </script>\n",
    "</body>"
   ]
  },
  {
   "cell_type": "code",
   "execution_count": 11,
   "metadata": {
    "collapsed": false
   },
   "outputs": [
    {
     "data": {
      "text/plain": [
       "True"
      ]
     },
     "execution_count": 11,
     "metadata": {},
     "output_type": "execute_result"
    }
   ],
   "source": [
    "url = 'http://localhost:8888/files/standardBar.html'\n",
    "webbrowser.open(url)"
   ]
  },
  {
   "cell_type": "code",
   "execution_count": 12,
   "metadata": {
    "collapsed": false
   },
   "outputs": [
    {
     "name": "stdout",
     "output_type": "stream",
     "text": [
      "Overwriting standardLine.html\n"
     ]
    }
   ],
   "source": [
    "%%writefile standardLine.html\n",
    "<!DOCTYPE html>\n",
    "<head>\n",
    "    <meta charset=\"utf-8\">\n",
    "    <title>Title Here</title>\n",
    "    <link rel=\"stylesheet\" href=\"http://networkslab.org/mkD3/styles.css\">\n",
    "    <script src=\"https://d3js.org/d3.v4.js\"></script>\n",
    "    <script src=\"http://networkslab.org/mkD3/mkd3.js\"></script>\n",
    "</head>\n",
    "<body>\n",
    "    <script type = \"text/javascript\">\n",
    "        mkd3.standardLine(\"standard_rpys.csv\", \"standard_citation.csv\")\n",
    "    </script>\n",
    "</body>"
   ]
  },
  {
   "cell_type": "code",
   "execution_count": 13,
   "metadata": {
    "collapsed": false
   },
   "outputs": [
    {
     "data": {
      "text/plain": [
       "True"
      ]
     },
     "execution_count": 13,
     "metadata": {},
     "output_type": "execute_result"
    }
   ],
   "source": [
    "url = 'http://localhost:8888/files/standardLine.html'\n",
    "webbrowser.open(url)"
   ]
  },
  {
   "cell_type": "markdown",
   "metadata": {},
   "source": [
    "## Multi RPYS"
   ]
  },
  {
   "cell_type": "code",
   "execution_count": 17,
   "metadata": {
    "collapsed": false
   },
   "outputs": [],
   "source": [
    "years = range(minYear, maxYear+1)\n",
    "RC = mk.RecordCollection(inputFile)\n",
    "\n",
    "# ***************************\n",
    "#  Create the multiRPYS file\n",
    "# ***************************\n",
    "dictionary = {'CPY': [],\n",
    "             \"abs-deviation\": [],\n",
    "             \"num-cites\": [],\n",
    "             \"rank\": [],\n",
    "             \"RPY\": []}\n",
    "for i in years:\n",
    "    try:\n",
    "        RCyear = RC.yearSplit(i, i)\n",
    "        if len(RCyear) > 0:\n",
    "            rpys = RCyear.rpys(minYear=1900, maxYear=maxYear)\n",
    "            length = len(rpys['year'])\n",
    "            rpys['CPY'] = [i]*length\n",
    "\n",
    "            dictionary['CPY'] += rpys['CPY']\n",
    "            dictionary['abs-deviation'] += rpys['abs-deviation']\n",
    "            dictionary['num-cites'] += rpys['count']\n",
    "            dictionary['rank'] += rpys['rank']\n",
    "            dictionary['RPY'] += rpys['year']\n",
    "    except:\n",
    "        pass\n",
    "\n",
    "df = pandas.DataFrame.from_dict(dictionary)\n",
    "df.to_csv(\"multi_rpys.csv\")\n",
    "\n",
    "\n",
    "# ***************************\n",
    "#  Create the citation file\n",
    "# ***************************\n",
    "dictionary = {\"author\": [],\n",
    "              \"journal\": [],\n",
    "              \"num-cites\": [],\n",
    "              \"RPY\": [],\n",
    "              \"CPY\": []}\n",
    "\n",
    "for i in years:\n",
    "    try:\n",
    "        RCyear = RC.yearSplit(i, i)\n",
    "        if len(RCyear) > 0:\n",
    "            citations = RCyear.getCitations()\n",
    "            length = len(citations['year'])\n",
    "            citations['CPY'] = [i]*length\n",
    "\n",
    "            dictionary['CPY'] += citations['CPY']\n",
    "            dictionary['author'] += citations['author']\n",
    "            dictionary['journal'] += citations['journal']\n",
    "            dictionary['num-cites'] += citations['num-cites']\n",
    "            dictionary['RPY'] += citations['year']\n",
    "    except:\n",
    "        pass\n",
    "\n",
    "df = pandas.DataFrame.from_dict(dictionary)\n",
    "\n",
    "df.to_csv(\"multi_citation.csv\")"
   ]
  },
  {
   "cell_type": "code",
   "execution_count": 15,
   "metadata": {
    "collapsed": false
   },
   "outputs": [
    {
     "name": "stdout",
     "output_type": "stream",
     "text": [
      "Overwriting multiRPYS.html\n"
     ]
    }
   ],
   "source": [
    "%%writefile multiRPYS.html\n",
    "<!DOCTYPE html>\n",
    "<head>\n",
    "    <meta charset=\"utf-8\">\n",
    "    <title>Title Here</title>\n",
    "    <link rel=\"stylesheet\" href=\"http://networkslab.org/mkD3/styles.css\">\n",
    "    <script src=\"https://d3js.org/d3.v4.js\"></script>\n",
    "    <script src=\"http://networkslab.org/mkD3/mkd3.js\"></script>\n",
    "</head>\n",
    "<body>\n",
    "    <script type = \"text/javascript\">\n",
    "        mkd3.multiRPYS(\"multi_rpys.csv\", \"multi_citation.csv\")\n",
    "    </script>\n",
    "</body>"
   ]
  },
  {
   "cell_type": "code",
   "execution_count": 16,
   "metadata": {
    "collapsed": false
   },
   "outputs": [
    {
     "data": {
      "text/plain": [
       "True"
      ]
     },
     "execution_count": 16,
     "metadata": {},
     "output_type": "execute_result"
    }
   ],
   "source": [
    "url = 'http://localhost:8888/files/multiRPYS.html'\n",
    "webbrowser.open(url)"
   ]
  },
  {
   "cell_type": "code",
   "execution_count": null,
   "metadata": {
    "collapsed": true
   },
   "outputs": [],
   "source": []
  }
 ],
 "metadata": {
  "kernelspec": {
   "display_name": "Python 3",
   "language": "python",
   "name": "python3"
  },
  "language_info": {
   "codemirror_mode": {
    "name": "ipython",
    "version": 3
   },
   "file_extension": ".py",
   "mimetype": "text/x-python",
   "name": "python",
   "nbconvert_exporter": "python",
   "pygments_lexer": "ipython3",
   "version": "3.5.2"
  }
 },
 "nbformat": 4,
 "nbformat_minor": 0
}

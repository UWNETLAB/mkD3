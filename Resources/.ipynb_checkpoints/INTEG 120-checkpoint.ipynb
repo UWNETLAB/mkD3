{
 "cells": [
  {
   "cell_type": "markdown",
   "metadata": {},
   "source": [
    "<center> <img src=\"http://networkslab.org/metaknowledge/images/site-logo.png\" alt=\"Drawing\" style=\"width: 100px; margin: auto\"/> <center>\n",
    "<center> **metaknowledge** </center>\n",
    "<center>*NetLab, University of Waterloo*</center>\n",
    "<center>Reid McIlroy-Young, John McLevey, and Jillian Anderson</center>"
   ]
  },
  {
   "cell_type": "markdown",
   "metadata": {},
   "source": [
    "### My Outline\n",
    "- Introduction\n",
    "    - What the purpose of this notebook is. What can it be used for. \n",
    "    - Where does all the stuff need to be placed? \n",
    "    - Install packages??\n",
    "    - Import packages\n",
    "- Networks\n",
    "    - Set variables\n",
    "    - Do the backend processing\n",
    "        - Make network\n",
    "        - Add centrality measures\n",
    "        - Give them the ability to filter? (Advanced feature)\n",
    "    - Make the file\n",
    "    - Display the file\n",
    "- RPYS\n",
    "    - Set variables\n",
    "    - Standard\n",
    "    - Multi\n",
    "    "
   ]
  },
  {
   "cell_type": "markdown",
   "metadata": {},
   "source": [
    "To begin, we need to import all the correct python libraries. "
   ]
  },
  {
   "cell_type": "code",
   "execution_count": 44,
   "metadata": {
    "collapsed": false
   },
   "outputs": [
    {
     "name": "stdout",
     "output_type": "stream",
     "text": [
      "Requirement already satisfied (use --upgrade to upgrade): metaknowledge in /Users/jilliananderson/anaconda/lib/python3.5/site-packages\n",
      "Requirement already satisfied (use --upgrade to upgrade): networkx in /Users/jilliananderson/anaconda/lib/python3.5/site-packages (from metaknowledge)\n",
      "Requirement already satisfied (use --upgrade to upgrade): decorator>=3.4.0 in /Users/jilliananderson/anaconda/lib/python3.5/site-packages (from networkx->metaknowledge)\n",
      "\u001b[33mYou are using pip version 8.1.2, however version 9.0.1 is available.\n",
      "You should consider upgrading via the 'pip install --upgrade pip' command.\u001b[0m\n",
      "Requirement already satisfied (use --upgrade to upgrade): networkx in /Users/jilliananderson/anaconda/lib/python3.5/site-packages\n",
      "Requirement already satisfied (use --upgrade to upgrade): decorator>=3.4.0 in /Users/jilliananderson/anaconda/lib/python3.5/site-packages (from networkx)\n",
      "\u001b[33mYou are using pip version 8.1.2, however version 9.0.1 is available.\n",
      "You should consider upgrading via the 'pip install --upgrade pip' command.\u001b[0m\n",
      "Requirement already satisfied (use --upgrade to upgrade): pandas in /Users/jilliananderson/anaconda/lib/python3.5/site-packages\n",
      "Requirement already satisfied (use --upgrade to upgrade): python-dateutil>=2 in /Users/jilliananderson/anaconda/lib/python3.5/site-packages (from pandas)\n",
      "Requirement already satisfied (use --upgrade to upgrade): pytz>=2011k in /Users/jilliananderson/anaconda/lib/python3.5/site-packages (from pandas)\n",
      "Requirement already satisfied (use --upgrade to upgrade): numpy>=1.7.0 in /Users/jilliananderson/anaconda/lib/python3.5/site-packages (from pandas)\n",
      "Requirement already satisfied (use --upgrade to upgrade): six>=1.5 in /Users/jilliananderson/anaconda/lib/python3.5/site-packages (from python-dateutil>=2->pandas)\n",
      "\u001b[33mYou are using pip version 8.1.2, however version 9.0.1 is available.\n",
      "You should consider upgrading via the 'pip install --upgrade pip' command.\u001b[0m\n",
      "Requirement already satisfied (use --upgrade to upgrade): python-louvain in /Users/jilliananderson/anaconda/lib/python3.5/site-packages\n",
      "Requirement already satisfied (use --upgrade to upgrade): networkx in /Users/jilliananderson/anaconda/lib/python3.5/site-packages (from python-louvain)\n",
      "Requirement already satisfied (use --upgrade to upgrade): decorator>=3.4.0 in /Users/jilliananderson/anaconda/lib/python3.5/site-packages (from networkx->python-louvain)\n",
      "\u001b[33mYou are using pip version 8.1.2, however version 9.0.1 is available.\n",
      "You should consider upgrading via the 'pip install --upgrade pip' command.\u001b[0m\n"
     ]
    }
   ],
   "source": [
    "# Only run this the VERY first time\n",
    "!pip install metaknowledge\n",
    "!pip install networkx\n",
    "!pip install pandas\n",
    "!pip install python-louvain"
   ]
  },
  {
   "cell_type": "code",
   "execution_count": 45,
   "metadata": {
    "collapsed": false
   },
   "outputs": [],
   "source": [
    "import metaknowledge as mk\n",
    "import networkx as nx\n",
    "import pandas\n",
    "import community"
   ]
  },
  {
   "cell_type": "markdown",
   "metadata": {},
   "source": [
    "# Networks"
   ]
  },
  {
   "cell_type": "markdown",
   "metadata": {},
   "source": [
    "### Define Variables"
   ]
  },
  {
   "cell_type": "markdown",
   "metadata": {},
   "source": [
    "Next, we need to define some variables:\n",
    "- `filepath` should be set as the filepath to your isi file.   \n",
    "- `networkType` should be `\"CoCitation\"`, `\"CoAuthor`\", or `\"Citation\"`.    \n",
    "- `nodeType` must be set to one of `\"full\"`, `\"original\"`, `\"author\"`, `\"journal\"`, or `\"year\"`."
   ]
  },
  {
   "cell_type": "code",
   "execution_count": 46,
   "metadata": {
    "collapsed": true
   },
   "outputs": [],
   "source": [
    "inputFile = \"/Users/jilliananderson/Desktop/mkD3Test/pos.txt\"\n",
    "networkType = \"CoCitation\"\n",
    "nodeType = \"author\""
   ]
  },
  {
   "cell_type": "markdown",
   "metadata": {},
   "source": [
    "### Make Network"
   ]
  },
  {
   "cell_type": "code",
   "execution_count": 67,
   "metadata": {
    "collapsed": false
   },
   "outputs": [],
   "source": [
    "# This cell creates the network based on \n",
    "# the variables you provided above.\n",
    "RC = mk.RecordCollection(inputFile)\n",
    "\n",
    "if networkType == \"CoCitation\":\n",
    "    net = RC.networkCoCitation(nodeType = nodeType, coreOnly=True)\n",
    "elif networkType == \"CoAuthor\":\n",
    "    net = RC.networkCoAuthor(coreOnly=True)\n",
    "elif networkType == \"Citation\":\n",
    "    net = RC.networkCitation(nodeType=nodeType, coreOnly=True)\n",
    "elif networkType == \"BibCoupling\":\n",
    "    net = RC.networkBibCoupling()\n",
    "else:\n",
    "    print(\"Please ensure networkType has been set to one of the accepted values\")\n",
    "\n",
    "    \n",
    "# This code detects communities and centrality\n",
    "# measures for your network.\n",
    "partition = community.best_partition(net)\n",
    "# closeness = nx.closeness_centrality(net)\n",
    "betweenness = nx.betweenness_centrality(net)\n",
    "# eigenVect = nx.eigenvector_centrality(net)\n",
    "for n in net.nodes():\n",
    "    comm = partition[n]\n",
    "#     clos = round(closeness[n], 3)\n",
    "    betw = round(betweenness[n], 3)\n",
    "#     eVct = round(eigenVect[n], 3)\n",
    "    net.add_node(n, community=comm, betweenness=betw)\n",
    "    \n",
    "# This code writes two .csv files to your computer.\n",
    "# One is the edgeList and the other is the node Attribute file\n"
   ]
  },
  {
   "cell_type": "code",
   "execution_count": 68,
   "metadata": {
    "collapsed": false
   },
   "outputs": [],
   "source": [
    "mk.writeGraph(net, \"myNet\")"
   ]
  },
  {
   "cell_type": "code",
   "execution_count": null,
   "metadata": {
    "collapsed": false
   },
   "outputs": [],
   "source": []
  },
  {
   "cell_type": "markdown",
   "metadata": {},
   "source": [
    "### Writing the HTML file\n",
    "To display our network, we need to make the file which displays it."
   ]
  },
  {
   "cell_type": "code",
   "execution_count": 65,
   "metadata": {
    "collapsed": false
   },
   "outputs": [
    {
     "name": "stdout",
     "output_type": "stream",
     "text": [
      "Overwriting network.html\n"
     ]
    }
   ],
   "source": [
    "%%writefile network.html\n",
    "<!DOCTYPE html>\n",
    "<head>\n",
    "    <meta charset=\"utf-8\">\n",
    "    <title>Title Here</title>\n",
    "    <link rel=\"stylesheet\" href=\"http://networkslab.org/mkD3/styles.css\">\n",
    "    <script src=\"https://d3js.org/d3.v4.js\"></script>\n",
    "    <script src=\"http://networkslab.org/mkD3/mkd3.js\"></script>\n",
    "</head>\n",
    "<body>\n",
    "    <script type = \"text/javascript\">\n",
    "        mkd3.networkGraph(\"myNet_edgeList.csv\", \"myNet_nodeAttributes.csv\")\n",
    "    </script>\n",
    "</body>"
   ]
  },
  {
   "cell_type": "markdown",
   "metadata": {},
   "source": [
    "### Display the Network\n",
    "Running the next cell "
   ]
  },
  {
   "cell_type": "code",
   "execution_count": 66,
   "metadata": {
    "collapsed": false
   },
   "outputs": [
    {
     "data": {
      "text/plain": [
       "True"
      ]
     },
     "execution_count": 66,
     "metadata": {},
     "output_type": "execute_result"
    }
   ],
   "source": [
    "import webbrowser\n",
    "url = 'http://localhost:8888/files/network.html'\n",
    "webbrowser.open(url)"
   ]
  },
  {
   "cell_type": "markdown",
   "metadata": {},
   "source": [
    "# RPYS Visualization"
   ]
  },
  {
   "cell_type": "markdown",
   "metadata": {
    "collapsed": true
   },
   "source": [
    "## Standard RPYS"
   ]
  },
  {
   "cell_type": "markdown",
   "metadata": {},
   "source": [
    "## Multi RPYS"
   ]
  },
  {
   "cell_type": "code",
   "execution_count": null,
   "metadata": {
    "collapsed": true
   },
   "outputs": [],
   "source": []
  }
 ],
 "metadata": {
  "kernelspec": {
   "display_name": "Python 3",
   "language": "python",
   "name": "python3"
  },
  "language_info": {
   "codemirror_mode": {
    "name": "ipython",
    "version": 3
   },
   "file_extension": ".py",
   "mimetype": "text/x-python",
   "name": "python",
   "nbconvert_exporter": "python",
   "pygments_lexer": "ipython3",
   "version": "3.5.2"
  }
 },
 "nbformat": 4,
 "nbformat_minor": 0
}

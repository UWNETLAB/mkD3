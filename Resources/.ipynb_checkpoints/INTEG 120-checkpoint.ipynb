{
 "cells": [
  {
   "cell_type": "markdown",
   "metadata": {},
   "source": [
    "<center> <img src=\"http://networkslab.org/metaknowledge/images/site-logo.png\" alt=\"Drawing\" style=\"width: 100px; margin: auto\"/> <center>\n",
    "<center> **metaknowledge** </center>\n",
    "<center>*NetLab, University of Waterloo*</center>\n",
    "<center>Reid McIlroy-Young, John McLevey, and Jillian Anderson</center>"
   ]
  },
  {
   "cell_type": "markdown",
   "metadata": {},
   "source": [
    "# Getting Set Up\n",
    "The very first time you use this jupyter notebook you will need to run the cell directly below. Do not run the cell the next time you use this jupyter notebook. If you do, nothing bad will happen, it just isn't neccessary. \n"
   ]
  },
  {
   "cell_type": "code",
   "execution_count": null,
   "metadata": {
    "collapsed": false
   },
   "outputs": [],
   "source": [
    "# Only run this the VERY first time\n",
    "!pip install metaknowledge\n",
    "!pip install networkx\n",
    "!pip install pandas\n",
    "!pip install python-louvain"
   ]
  },
  {
   "cell_type": "code",
   "execution_count": 56,
   "metadata": {
    "collapsed": false
   },
   "outputs": [],
   "source": [
    "# Run this before you do anything else\n",
    "import metaknowledge as mk\n",
    "import networkx as nx\n",
    "import pandas\n",
    "import community\n",
    "import webbrowser"
   ]
  },
  {
   "cell_type": "code",
   "execution_count": 57,
   "metadata": {
    "collapsed": true
   },
   "outputs": [],
   "source": [
    "# The line below is the most important line in the entire document. \n",
    "# Make sure the filepath is set to the location where the WOS file is stored.\n",
    "inputFile = \"/Users/jilliananderson/Downloads/imetrics\""
   ]
  },
  {
   "cell_type": "markdown",
   "metadata": {},
   "source": [
    "# Networks"
   ]
  },
  {
   "cell_type": "markdown",
   "metadata": {},
   "source": [
    "### Define Variables"
   ]
  },
  {
   "cell_type": "markdown",
   "metadata": {},
   "source": [
    "Next, we need to define some variables:\n",
    "- `filepath` should be set as the filepath to your isi file.   \n",
    "- `networkType` should be `\"CoCitation\"`, `\"CoAuthor`\", or `\"Citation\"`.    \n",
    "- `nodeType` must be set to one of `\"full\"`, `\"original\"`, `\"author\"`, `\"journal\"`, or `\"year\"`."
   ]
  },
  {
   "cell_type": "code",
   "execution_count": 60,
   "metadata": {
    "collapsed": true
   },
   "outputs": [],
   "source": [
    "networkType = \"CoAuthor\"\n",
    "nodeType = \"original\""
   ]
  },
  {
   "cell_type": "markdown",
   "metadata": {},
   "source": [
    "### Make Network"
   ]
  },
  {
   "cell_type": "code",
   "execution_count": null,
   "metadata": {
    "collapsed": false
   },
   "outputs": [],
   "source": [
    "# This cell creates the network based on \n",
    "# the variables you provided above.\n",
    "RC = mk.RecordCollection(inputFile)\n",
    "\n",
    "if networkType == \"CoCitation\":\n",
    "    net = RC.networkCoCitation(nodeType = nodeType, coreOnly=True)\n",
    "    directed = False\n",
    "    partition = community.best_partition(net)\n",
    "elif networkType == \"CoAuthor\":\n",
    "    net = RC.networkCoAuthor()\n",
    "    directed = False\n",
    "    partition = community.best_partition(net)\n",
    "elif networkType == \"Citation\":\n",
    "    net = RC.networkCitation(nodeType=nodeType, coreOnly=True)\n",
    "    directed = True\n",
    "\n",
    "else:\n",
    "    print(\"Please ensure networkType has been set to one of the accepted values\")\n"
   ]
  },
  {
   "cell_type": "code",
   "execution_count": null,
   "metadata": {
    "collapsed": false
   },
   "outputs": [],
   "source": [
    "# This code detects centrality measures for your network.\n",
    "betweenness = nx.betweenness_centrality(net)\n",
    "# closeness = nx.closeness_centrality(net)   # <- Extra more complicated centrality\n",
    "# eigenVect = nx.eigenvector_centrality(net) # <--/\n"
   ]
  },
  {
   "cell_type": "code",
   "execution_count": 62,
   "metadata": {
    "collapsed": false
   },
   "outputs": [
    {
     "ename": "KeyboardInterrupt",
     "evalue": "",
     "output_type": "error",
     "traceback": [
      "\u001b[0;31m---------------------------------------------------------------------------\u001b[0m",
      "\u001b[0;31mKeyboardInterrupt\u001b[0m                         Traceback (most recent call last)",
      "\u001b[0;32m<ipython-input-62-53e3650a46ba>\u001b[0m in \u001b[0;36m<module>\u001b[0;34m()\u001b[0m\n\u001b[1;32m      1\u001b[0m \u001b[0;31m# This code detects centrality measures for your network.\u001b[0m\u001b[0;34m\u001b[0m\u001b[0;34m\u001b[0m\u001b[0m\n\u001b[0;32m----> 2\u001b[0;31m \u001b[0mbetweenness\u001b[0m \u001b[0;34m=\u001b[0m \u001b[0mnx\u001b[0m\u001b[0;34m.\u001b[0m\u001b[0mbetweenness_centrality\u001b[0m\u001b[0;34m(\u001b[0m\u001b[0mnet\u001b[0m\u001b[0;34m)\u001b[0m\u001b[0;34m\u001b[0m\u001b[0m\n\u001b[0m\u001b[1;32m      3\u001b[0m \u001b[0;31m# closeness = nx.closeness_centrality(net)   # <- Extra more complicated centrality\u001b[0m\u001b[0;34m\u001b[0m\u001b[0;34m\u001b[0m\u001b[0m\n\u001b[1;32m      4\u001b[0m \u001b[0;31m# eigenVect = nx.eigenvector_centrality(net) # <--/\u001b[0m\u001b[0;34m\u001b[0m\u001b[0;34m\u001b[0m\u001b[0m\n\u001b[1;32m      5\u001b[0m \u001b[0;34m\u001b[0m\u001b[0m\n",
      "\u001b[0;32m/Users/jilliananderson/anaconda/lib/python3.5/site-packages/networkx/algorithms/centrality/betweenness.py\u001b[0m in \u001b[0;36mbetweenness_centrality\u001b[0;34m(G, k, normalized, weight, endpoints, seed)\u001b[0m\n\u001b[1;32m    114\u001b[0m         \u001b[0;31m# single source shortest paths\u001b[0m\u001b[0;34m\u001b[0m\u001b[0;34m\u001b[0m\u001b[0m\n\u001b[1;32m    115\u001b[0m         \u001b[0;32mif\u001b[0m \u001b[0mweight\u001b[0m \u001b[0;32mis\u001b[0m \u001b[0;32mNone\u001b[0m\u001b[0;34m:\u001b[0m  \u001b[0;31m# use BFS\u001b[0m\u001b[0;34m\u001b[0m\u001b[0m\n\u001b[0;32m--> 116\u001b[0;31m             \u001b[0mS\u001b[0m\u001b[0;34m,\u001b[0m \u001b[0mP\u001b[0m\u001b[0;34m,\u001b[0m \u001b[0msigma\u001b[0m \u001b[0;34m=\u001b[0m \u001b[0m_single_source_shortest_path_basic\u001b[0m\u001b[0;34m(\u001b[0m\u001b[0mG\u001b[0m\u001b[0;34m,\u001b[0m \u001b[0ms\u001b[0m\u001b[0;34m)\u001b[0m\u001b[0;34m\u001b[0m\u001b[0m\n\u001b[0m\u001b[1;32m    117\u001b[0m         \u001b[0;32melse\u001b[0m\u001b[0;34m:\u001b[0m  \u001b[0;31m# use Dijkstra's algorithm\u001b[0m\u001b[0;34m\u001b[0m\u001b[0m\n\u001b[1;32m    118\u001b[0m             \u001b[0mS\u001b[0m\u001b[0;34m,\u001b[0m \u001b[0mP\u001b[0m\u001b[0;34m,\u001b[0m \u001b[0msigma\u001b[0m \u001b[0;34m=\u001b[0m \u001b[0m_single_source_dijkstra_path_basic\u001b[0m\u001b[0;34m(\u001b[0m\u001b[0mG\u001b[0m\u001b[0;34m,\u001b[0m \u001b[0ms\u001b[0m\u001b[0;34m,\u001b[0m \u001b[0mweight\u001b[0m\u001b[0;34m)\u001b[0m\u001b[0;34m\u001b[0m\u001b[0m\n",
      "\u001b[0;32m/Users/jilliananderson/anaconda/lib/python3.5/site-packages/networkx/algorithms/centrality/betweenness.py\u001b[0m in \u001b[0;36m_single_source_shortest_path_basic\u001b[0;34m(G, s)\u001b[0m\n\u001b[1;32m    229\u001b[0m     \u001b[0mP\u001b[0m \u001b[0;34m=\u001b[0m \u001b[0;34m{\u001b[0m\u001b[0;34m}\u001b[0m\u001b[0;34m\u001b[0m\u001b[0m\n\u001b[1;32m    230\u001b[0m     \u001b[0;32mfor\u001b[0m \u001b[0mv\u001b[0m \u001b[0;32min\u001b[0m \u001b[0mG\u001b[0m\u001b[0;34m:\u001b[0m\u001b[0;34m\u001b[0m\u001b[0m\n\u001b[0;32m--> 231\u001b[0;31m         \u001b[0mP\u001b[0m\u001b[0;34m[\u001b[0m\u001b[0mv\u001b[0m\u001b[0;34m]\u001b[0m \u001b[0;34m=\u001b[0m \u001b[0;34m[\u001b[0m\u001b[0;34m]\u001b[0m\u001b[0;34m\u001b[0m\u001b[0m\n\u001b[0m\u001b[1;32m    232\u001b[0m     \u001b[0msigma\u001b[0m \u001b[0;34m=\u001b[0m \u001b[0mdict\u001b[0m\u001b[0;34m.\u001b[0m\u001b[0mfromkeys\u001b[0m\u001b[0;34m(\u001b[0m\u001b[0mG\u001b[0m\u001b[0;34m,\u001b[0m \u001b[0;36m0.0\u001b[0m\u001b[0;34m)\u001b[0m    \u001b[0;31m# sigma[v]=0 for v in G\u001b[0m\u001b[0;34m\u001b[0m\u001b[0m\n\u001b[1;32m    233\u001b[0m     \u001b[0mD\u001b[0m \u001b[0;34m=\u001b[0m \u001b[0;34m{\u001b[0m\u001b[0;34m}\u001b[0m\u001b[0;34m\u001b[0m\u001b[0m\n",
      "\u001b[0;31mKeyboardInterrupt\u001b[0m: "
     ]
    }
   ],
   "source": [
    "for n in net.nodes():\n",
    "    if not directed:\n",
    "        betw = round(betweenness[n], 3)\n",
    "        comm = partition[n]\n",
    "        net.add_node(n, community=comm, betweenness=betw)\n",
    "    else:\n",
    "        betw = round(betweenness[n], 3)\n",
    "        net.add_node(n, community=comm, betweenness=betw)"
   ]
  },
  {
   "cell_type": "code",
   "execution_count": null,
   "metadata": {
    "collapsed": true
   },
   "outputs": [],
   "source": [
    "# This code writes two .csv files to your computer.\n",
    "# One is the edgeList and the other is the node Attribute file\n",
    "mk.writeGraph(net, \"myNet\")"
   ]
  },
  {
   "cell_type": "markdown",
   "metadata": {},
   "source": [
    "### Writing the HTML file\n",
    "To display our network, we need to make the file which displays it."
   ]
  },
  {
   "cell_type": "code",
   "execution_count": 53,
   "metadata": {
    "collapsed": false
   },
   "outputs": [
    {
     "name": "stdout",
     "output_type": "stream",
     "text": [
      "Overwriting network.html\n"
     ]
    }
   ],
   "source": [
    "%%writefile network.html\n",
    "<!DOCTYPE html>\n",
    "<head>\n",
    "    <meta charset=\"utf-8\">\n",
    "    <title>Network</title>\n",
    "    <link rel=\"stylesheet\" href=\"http://networkslab.org/mkD3/styles.css\">\n",
    "    <script src=\"https://d3js.org/d3.v4.js\"></script>\n",
    "    <script src=\"http://networkslab.org/mkD3/mkd3.js\"></script>\n",
    "</head>\n",
    "<body>\n",
    "    <script type = \"text/javascript\">\n",
    "        mkd3.networkGraph(\"myNet_edgeList.csv\", \"myNet_nodeAttributes.csv\")\n",
    "    </script>\n",
    "</body>"
   ]
  },
  {
   "cell_type": "markdown",
   "metadata": {},
   "source": [
    "### Display the Network\n",
    "Running the next cell "
   ]
  },
  {
   "cell_type": "code",
   "execution_count": 54,
   "metadata": {
    "collapsed": false
   },
   "outputs": [
    {
     "data": {
      "text/plain": [
       "True"
      ]
     },
     "execution_count": 54,
     "metadata": {},
     "output_type": "execute_result"
    }
   ],
   "source": [
    "url = 'http://localhost:8888/files/network.html'\n",
    "webbrowser.open(url)\n"
   ]
  },
  {
   "cell_type": "markdown",
   "metadata": {},
   "source": [
    "----\n",
    "# RPYS Visualization"
   ]
  },
  {
   "cell_type": "code",
   "execution_count": 41,
   "metadata": {
    "collapsed": true
   },
   "outputs": [],
   "source": [
    "minYear = 1900\n",
    "maxYear = 2016\n",
    "rpysType = \"StandardBar\""
   ]
  },
  {
   "cell_type": "markdown",
   "metadata": {
    "collapsed": true
   },
   "source": [
    "## Standard RPYS"
   ]
  },
  {
   "cell_type": "code",
   "execution_count": 42,
   "metadata": {
    "collapsed": false
   },
   "outputs": [],
   "source": [
    "RC = mk.RecordCollection(inputFile)\n",
    "\n",
    "rpys = RC.rpys(minYear=1900, maxYear=2016)\n",
    "df = pandas.DataFrame.from_dict(rpys)\n",
    "df.to_csv(\"standard_rpys.csv\")\n",
    "\n",
    "# Creating CitationFile\n",
    "citations = RC.getCitations()\n",
    "df = pandas.DataFrame.from_dict(citations)\n",
    "df.to_csv(\"standard_citation.csv\")"
   ]
  },
  {
   "cell_type": "code",
   "execution_count": 43,
   "metadata": {
    "collapsed": false
   },
   "outputs": [
    {
     "name": "stdout",
     "output_type": "stream",
     "text": [
      "Overwriting standardBar.html\n"
     ]
    }
   ],
   "source": [
    "%%writefile standardBar.html\n",
    "<!DOCTYPE html>\n",
    "<head>\n",
    "    <meta charset=\"utf-8\">\n",
    "    <title>Title Here</title>\n",
    "    <link rel=\"stylesheet\" href=\"http://networkslab.org/mkD3/styles.css\">\n",
    "    <script src=\"https://d3js.org/d3.v4.js\"></script>\n",
    "    <script src=\"http://networkslab.org/mkD3/mkd3.js\"></script>\n",
    "</head>\n",
    "<body>\n",
    "    <script type = \"text/javascript\">\n",
    "        mkd3.standardBar(\"standard_rpys.csv\", \"standard_citation.csv\")\n",
    "    </script>\n",
    "</body>"
   ]
  },
  {
   "cell_type": "code",
   "execution_count": 44,
   "metadata": {
    "collapsed": false
   },
   "outputs": [
    {
     "data": {
      "text/plain": [
       "True"
      ]
     },
     "execution_count": 44,
     "metadata": {},
     "output_type": "execute_result"
    }
   ],
   "source": [
    "url = 'http://localhost:8888/files/standardBar.html'\n",
    "webbrowser.open(url)"
   ]
  },
  {
   "cell_type": "code",
   "execution_count": 45,
   "metadata": {
    "collapsed": false
   },
   "outputs": [
    {
     "name": "stdout",
     "output_type": "stream",
     "text": [
      "Overwriting standardLine.html\n"
     ]
    }
   ],
   "source": [
    "%%writefile standardLine.html\n",
    "<!DOCTYPE html>\n",
    "<head>\n",
    "    <meta charset=\"utf-8\">\n",
    "    <title>Title Here</title>\n",
    "    <link rel=\"stylesheet\" href=\"http://networkslab.org/mkD3/styles.css\">\n",
    "    <script src=\"https://d3js.org/d3.v4.js\"></script>\n",
    "    <script src=\"http://networkslab.org/mkD3/mkd3.js\"></script>\n",
    "</head>\n",
    "<body>\n",
    "    <script type = \"text/javascript\">\n",
    "        mkd3.standardLine(\"standard_rpys.csv\", \"standard_citation.csv\")\n",
    "    </script>\n",
    "</body>"
   ]
  },
  {
   "cell_type": "code",
   "execution_count": 46,
   "metadata": {
    "collapsed": false
   },
   "outputs": [
    {
     "data": {
      "text/plain": [
       "True"
      ]
     },
     "execution_count": 46,
     "metadata": {},
     "output_type": "execute_result"
    }
   ],
   "source": [
    "url = 'http://localhost:8888/files/standardLine.html'\n",
    "webbrowser.open(url)"
   ]
  },
  {
   "cell_type": "markdown",
   "metadata": {},
   "source": [
    "## Multi RPYS"
   ]
  },
  {
   "cell_type": "code",
   "execution_count": 47,
   "metadata": {
    "collapsed": false
   },
   "outputs": [],
   "source": [
    "years = range(minYear, maxYear+1)\n",
    "RC = mk.RecordCollection(inputFile)\n",
    "\n",
    "# ***************************\n",
    "#  Create the multiRPYS file\n",
    "# ***************************\n",
    "dictionary = {'CPY': [],\n",
    "             \"abs-deviation\": [],\n",
    "             \"num-cites\": [],\n",
    "             \"rank\": [],\n",
    "             \"RPY\": []}\n",
    "for i in years:\n",
    "    try:\n",
    "        RCyear = RC.yearSplit(i, i)\n",
    "        if len(RCyear) > 0:\n",
    "            rpys = RCyear.rpys(minYear=1900, maxYear=maxYear)\n",
    "            length = len(rpys['year'])\n",
    "            rpys['CPY'] = [i]*length\n",
    "\n",
    "            dictionary['CPY'] += rpys['CPY']\n",
    "            dictionary['abs-deviation'] += rpys['abs-deviation']\n",
    "            dictionary['num-cites'] += rpys['count']\n",
    "            dictionary['rank'] += rpys['rank']\n",
    "            dictionary['RPY'] += rpys['year']\n",
    "    except:\n",
    "        pass\n",
    "\n",
    "df = pandas.DataFrame.from_dict(dictionary)\n",
    "df.to_csv(\"multi_rpys.csv\")\n",
    "\n",
    "\n",
    "# ***************************\n",
    "#  Create the citation file\n",
    "# ***************************\n",
    "dictionary = {\"author\": [],\n",
    "              \"journal\": [],\n",
    "              \"num-cites\": [],\n",
    "              \"RPY\": [],\n",
    "              \"CPY\": []}\n",
    "\n",
    "for i in years:\n",
    "    try:\n",
    "        RCyear = RC.yearSplit(i, i)\n",
    "        if len(RCyear) > 0:\n",
    "            citations = RCyear.getCitations()\n",
    "            length = len(citations['year'])\n",
    "            citations['CPY'] = [i]*length\n",
    "\n",
    "            dictionary['CPY'] += citations['CPY']\n",
    "            dictionary['author'] += citations['author']\n",
    "            dictionary['journal'] += citations['journal']\n",
    "            dictionary['num-cites'] += citations['num-cites']\n",
    "            dictionary['RPY'] += citations['year']\n",
    "    except:\n",
    "        pass\n",
    "\n",
    "df = pandas.DataFrame.from_dict(dictionary)\n",
    "\n",
    "df.to_csv(\"multi_citation.csv\")"
   ]
  },
  {
   "cell_type": "code",
   "execution_count": 48,
   "metadata": {
    "collapsed": false
   },
   "outputs": [
    {
     "name": "stdout",
     "output_type": "stream",
     "text": [
      "Overwriting multiRPYS.html\n"
     ]
    }
   ],
   "source": [
    "%%writefile multiRPYS.html\n",
    "<!DOCTYPE html>\n",
    "<head>\n",
    "    <meta charset=\"utf-8\">\n",
    "    <title>Title Here</title>\n",
    "    <link rel=\"stylesheet\" href=\"http://networkslab.org/mkD3/styles.css\">\n",
    "    <script src=\"https://d3js.org/d3.v4.js\"></script>\n",
    "    <script src=\"http://networkslab.org/mkD3/mkd3.js\"></script>\n",
    "</head>\n",
    "<body>\n",
    "    <script type = \"text/javascript\">\n",
    "        mkd3.multiRPYS(\"multi_rpys.csv\", \"multi_citation.csv\")\n",
    "    </script>\n",
    "</body>"
   ]
  },
  {
   "cell_type": "code",
   "execution_count": 49,
   "metadata": {
    "collapsed": false
   },
   "outputs": [
    {
     "data": {
      "text/plain": [
       "True"
      ]
     },
     "execution_count": 49,
     "metadata": {},
     "output_type": "execute_result"
    }
   ],
   "source": [
    "url = 'http://localhost:8888/files/multiRPYS.html'\n",
    "webbrowser.open(url)"
   ]
  },
  {
   "cell_type": "code",
   "execution_count": null,
   "metadata": {
    "collapsed": true
   },
   "outputs": [],
   "source": []
  }
 ],
 "metadata": {
  "kernelspec": {
   "display_name": "Python 3",
   "language": "python",
   "name": "python3"
  },
  "language_info": {
   "codemirror_mode": {
    "name": "ipython",
    "version": 3
   },
   "file_extension": ".py",
   "mimetype": "text/x-python",
   "name": "python",
   "nbconvert_exporter": "python",
   "pygments_lexer": "ipython3",
   "version": "3.5.2"
  }
 },
 "nbformat": 4,
 "nbformat_minor": 0
}
